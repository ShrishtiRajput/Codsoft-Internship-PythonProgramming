from tkinter import*
from tkinter import messagebox
import random
import string
win = Tk()
win.title("Password Generator")
win.config(bg = "beige")
win.geometry("500x500")
win.resizable(0,0)
entry1 = None
entry_password_length = None
entry_generated_password = None

def generate_password():
    global entry_generated_password
    password_length = int(entry_password_length.get())
    if password_length < 8:
        messagebox.showwarning("Warning", "Not less than 8 Words:")
        return

    characters = string.ascii_letters + string.digits + string.punctuation
    generated_password = ''.join(random.choice(characters) for _ in range(password_length))
    entry_generated_password.delete(0, END)
    entry_generated_password.insert(END, generated_password)

def accept_password():
    global entry, entry_generated_password
    username = entry1.get()
    password = entry_generated_password.get()
    if not username or not password:
        messagebox.showwarning("Warning", "Please enter username and generate a password.")
        return


    messagebox.showinfo("Accepted", f"Username: {username}\nPassword: {password}")

def reset_fields():
    global entry1, entry_password_length, entry_generated_password
    entry1.delete(0, END)
    entry_password_length.delete(0, END)
    entry_generated_password.delete(0, END)

def main():
    global entry_username, entry_password_length, entry_generated_password
   


heading_label = Label(win, text="Password Generator", font=("Helvetica", 16, "bold"), bg="beige")
heading_label.grid(row=0, column=0, columnspan=3, pady=20)


label1 = Label(win, text="Enter Username:", font = ("Calibari",12,"bold"), bg = "beige",fg = "black")
label1.grid(row=1, column=0, sticky= E, padx = 10 , pady = 5)

entry1 =Entry(win, width=30)
entry1.grid(row=1, column=1, columnspan=2, padx = 10 , pady = 5)


password_length = Label(win, text="Enter Password Length:",font = ("Calibari",12,"bold"), bg = "beige",fg = "black")
password_length.grid(row=2, column=0, sticky=E, padx = 10 , pady = 5)

entry_password_length = Entry(win, width=30)
entry_password_length.grid(row=2, column=1, padx = 10 , pady = 5, columnspan = 2)


generated_password = Label(win, text="Generated Password:",font = ("Calibari",12,"bold"), bg = "beige",fg = "black")
generated_password.grid(row=3, column=0, sticky=E, padx = 10, pady = 5)

entry_generated_password = Entry(win, width=30)
entry_generated_password.grid(row=3, column=1, columnspan=2)


button_generate_password = Button(win, text="Generate Password", command=generate_password, bg = "orange",font = ("Calibari",12,"bold"))
button_generate_password.grid(row=4, column=0, padx=5, pady=10)

button_accept_password = Button(win, text="Accept", command=accept_password,bg = "orange",font = ("Calibari",12,"bold"))
button_accept_password.grid(row=4, column=1, padx=5, pady=10)

button_reset_fields = Button(win, text="Reset", command=reset_fields,bg = "orange",font = ("Calibari",12,"bold"))
button_reset_fields.grid(row=4, column=2, padx=5, pady=10)

win.mainloop()
