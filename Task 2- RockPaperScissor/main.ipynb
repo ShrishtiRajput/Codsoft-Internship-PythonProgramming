import random
from tkinter import*
win = Tk()
options = ("rock","paper","scissors")
player  = None
computer = random.choice(options)
running = True
player = input("Enter the choice(rock,paper, scissors):")
while running:
    player  = None
    computer = random.choice(options)
    while player not in options:
        player = input("Enter the choice(rock,paper, scissors):")
        print(f"Player:{player}")
        print(f"Computer:{computer}")
        if player == computer :
            print("It's a Tie!")
        elif player == "rock" and computer == " scissors":
            print("You Win!")
        elif player == "paper" and computer == " rock":
            print("You Win!")
        elif player == "scissors" and computer == " paper":
            print("You Win!")
        else:
            print("You Lose!")
        if not input("Play Again ? (yes/no): ") .lower() == "yes":
            running = False
print("Thanks For Playing!")
    
win.mainloop()
